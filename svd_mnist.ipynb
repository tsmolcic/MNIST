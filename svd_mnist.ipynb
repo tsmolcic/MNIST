{
 "cells": [
  {
   "cell_type": "code",
   "execution_count": 1,
   "metadata": {
    "collapsed": true
   },
   "outputs": [],
   "source": [
    "from six.moves import urllib\n",
    "from sklearn.datasets import fetch_mldata\n",
    "try:\n",
    "    mnist = fetch_mldata('MNIST original')\n",
    "except urllib.error.HTTPError as ex:\n",
    "    print(\"Could not download MNIST data from mldata.org, trying alternative...\")\n",
    "\n",
    "    # Alternative method to load MNIST, if mldata.org is down\n",
    "    from scipy.io import loadmat\n",
    "    mnist_alternative_url = \"https://github.com/amplab/datascience-sp14/raw/master/lab7/mldata/mnist-original.mat\"\n",
    "    mnist_path = \"./mnist-original.mat\"\n",
    "    response = urllib.request.urlopen(mnist_alternative_url)\n",
    "    with open(mnist_path, \"wb\") as f:\n",
    "        content = response.read()\n",
    "        f.write(content)\n",
    "    mnist_raw = loadmat(mnist_path)\n",
    "    mnist = {\n",
    "        \"data\": mnist_raw[\"data\"].T,\n",
    "        \"target\": mnist_raw[\"label\"][0],\n",
    "        \"COL_NAMES\": [\"label\", \"data\"],\n",
    "        \"DESCR\": \"mldata.org dataset: mnist-original\",\n",
    "    }\n",
    "    print(\"Success!\")"
   ]
  },
  {
   "cell_type": "code",
   "execution_count": 2,
   "metadata": {
    "collapsed": true
   },
   "outputs": [],
   "source": [
    "import numpy as np\n",
    "np.random.seed(42)"
   ]
  },
  {
   "cell_type": "code",
   "execution_count": 3,
   "metadata": {},
   "outputs": [
    {
     "data": {
      "text/plain": [
       "(70000, 784)"
      ]
     },
     "execution_count": 3,
     "metadata": {},
     "output_type": "execute_result"
    }
   ],
   "source": [
    "mnist.data.shape"
   ]
  },
  {
   "cell_type": "code",
   "execution_count": 4,
   "metadata": {},
   "outputs": [
    {
     "data": {
      "text/plain": [
       "(70000,)"
      ]
     },
     "execution_count": 4,
     "metadata": {},
     "output_type": "execute_result"
    }
   ],
   "source": [
    "mnist.target.shape"
   ]
  },
  {
   "cell_type": "code",
   "execution_count": 5,
   "metadata": {},
   "outputs": [
    {
     "data": {
      "text/plain": [
       "((70000, 784), (70000,))"
      ]
     },
     "execution_count": 5,
     "metadata": {},
     "output_type": "execute_result"
    }
   ],
   "source": [
    "# MNIST is already separated into 2 sets, one of 60k digits and one of 10k digits\n",
    "X_all, y_all = mnist.data, mnist.target\n",
    "X_all.shape, y_all.shape"
   ]
  },
  {
   "cell_type": "code",
   "execution_count": 6,
   "metadata": {
    "collapsed": true
   },
   "outputs": [],
   "source": [
    "# Separate them into training and test set: X_train,y_train being training set and X_test, y_test being test set\n",
    "split = X_all.shape[0] - 10000\n",
    "X_train, y_train = X_all[:split,:], y_all[:split]\n",
    "X_test, y_test = X_all[split:,:], y_all[split:]"
   ]
  },
  {
   "cell_type": "code",
   "execution_count": 7,
   "metadata": {},
   "outputs": [
    {
     "data": {
      "text/plain": [
       "((60000, 784), (60000,))"
      ]
     },
     "execution_count": 7,
     "metadata": {},
     "output_type": "execute_result"
    }
   ],
   "source": [
    "X_train.shape, y_train.shape"
   ]
  },
  {
   "cell_type": "code",
   "execution_count": 8,
   "metadata": {},
   "outputs": [
    {
     "data": {
      "text/plain": [
       "((10000, 784), (10000,))"
      ]
     },
     "execution_count": 8,
     "metadata": {},
     "output_type": "execute_result"
    }
   ],
   "source": [
    "X_test.shape, y_test.shape"
   ]
  },
  {
   "cell_type": "code",
   "execution_count": 9,
   "metadata": {
    "collapsed": true
   },
   "outputs": [],
   "source": [
    "%matplotlib inline\n",
    "import matplotlib\n",
    "import matplotlib.pyplot as plt"
   ]
  },
  {
   "cell_type": "code",
   "execution_count": 10,
   "metadata": {
    "collapsed": true
   },
   "outputs": [],
   "source": [
    "def plot_digit(data):\n",
    "    image = data.reshape(28, 28)\n",
    "    plt.imshow(image, cmap = matplotlib.cm.binary, interpolation = \"nearest\")\n",
    "    plt.axis(\"off\")"
   ]
  },
  {
   "cell_type": "code",
   "execution_count": 11,
   "metadata": {},
   "outputs": [
    {
     "data": {
      "text/plain": [
       "(array([ 0.,  1.,  2.,  3.,  4.,  5.,  6.,  7.,  8.,  9.]),\n",
       " array([    0,  5923, 12665, 18623, 24754, 30596, 36017, 41935, 48200, 54051], dtype=int64),\n",
       " array([5923, 6742, 5958, 6131, 5842, 5421, 5918, 6265, 5851, 5949], dtype=int64))"
      ]
     },
     "execution_count": 11,
     "metadata": {},
     "output_type": "execute_result"
    }
   ],
   "source": [
    "# Structure of my big training dataset\n",
    "values, indices, counts = np.unique(y_train, return_index = True, return_counts = True)\n",
    "values, indices, counts"
   ]
  },
  {
   "cell_type": "code",
   "execution_count": 12,
   "metadata": {
    "collapsed": true
   },
   "outputs": [],
   "source": [
    "#I want to separate my training dataset into a smaller training set and a validation set, \n",
    "#                               smaller training set being ~80% size of original training dataset\n",
    "training_size = int(0.8 * np.average(counts))\n",
    "\n",
    "training_0s, val_0s = X_train[indices[0]:training_size], X_train[training_size:indices[1]-1]\n",
    "training_1s, val_1s = X_train[indices[1]:indices[1]+training_size], X_train[indices[1]+training_size:indices[2]-1]\n",
    "training_2s, val_2s = X_train[indices[2]:indices[2]+training_size], X_train[indices[2]+training_size:indices[3]-1]\n",
    "training_3s, val_3s = X_train[indices[3]:indices[3]+training_size], X_train[indices[3]+training_size:indices[4]-1]\n",
    "training_4s, val_4s = X_train[indices[4]:indices[4]+training_size], X_train[indices[4]+training_size:indices[5]-1]\n",
    "training_5s, val_5s = X_train[indices[5]:indices[5]+training_size], X_train[indices[5]+training_size:indices[6]-1]\n",
    "training_6s, val_6s = X_train[indices[6]:indices[6]+training_size], X_train[indices[6]+training_size:indices[7]-1]\n",
    "training_7s, val_7s = X_train[indices[7]:indices[7]+training_size], X_train[indices[7]+training_size:indices[8]-1]\n",
    "training_8s, val_8s = X_train[indices[8]:indices[8]+training_size], X_train[indices[8]+training_size:indices[9]-1]\n",
    "training_9s, val_9s = X_train[indices[9]:indices[9]+training_size], X_train[indices[9]+training_size:indices[9]+5948]\n",
    "\n",
    "training_0s_label, val_0s_label = y_train[indices[0]:training_size], y_train[training_size:indices[1]-1]\n",
    "training_1s_label, val_1s_label = y_train[indices[1]:indices[1]+training_size], y_train[indices[1]+training_size:indices[2]-1]\n",
    "training_2s_label, val_2s_label = y_train[indices[2]:indices[2]+training_size], y_train[indices[2]+training_size:indices[3]-1]\n",
    "training_3s_label, val_3s_label = y_train[indices[3]:indices[3]+training_size], y_train[indices[3]+training_size:indices[4]-1]\n",
    "training_4s_label, val_4s_label = y_train[indices[4]:indices[4]+training_size], y_train[indices[4]+training_size:indices[5]-1]\n",
    "training_5s_label, val_5s_label = y_train[indices[5]:indices[5]+training_size], y_train[indices[5]+training_size:indices[6]-1]\n",
    "training_6s_label, val_6s_label = y_train[indices[6]:indices[6]+training_size], y_train[indices[6]+training_size:indices[7]-1]\n",
    "training_7s_label, val_7s_label = y_train[indices[7]:indices[7]+training_size], y_train[indices[7]+training_size:indices[8]-1]\n",
    "training_8s_label, val_8s_label = y_train[indices[8]:indices[8]+training_size], y_train[indices[8]+training_size:indices[9]-1]\n",
    "training_9s_label, val_9s_label = y_train[indices[9]:indices[9]+training_size], y_train[indices[9]+training_size:indices[9]+5948]"
   ]
  },
  {
   "cell_type": "code",
   "execution_count": 13,
   "metadata": {
    "collapsed": true
   },
   "outputs": [],
   "source": [
    "#plot_digit(training_9s[0])"
   ]
  },
  {
   "cell_type": "code",
   "execution_count": 14,
   "metadata": {
    "collapsed": true
   },
   "outputs": [],
   "source": [
    "#plot_digit(training_9s[len(training_9s)-1])"
   ]
  },
  {
   "cell_type": "code",
   "execution_count": 15,
   "metadata": {
    "collapsed": true
   },
   "outputs": [],
   "source": [
    "#plot_digit(val_9s[0])"
   ]
  },
  {
   "cell_type": "code",
   "execution_count": 16,
   "metadata": {
    "collapsed": true
   },
   "outputs": [],
   "source": [
    "#plot_digit(val_9s[len(val_9s)-1])"
   ]
  },
  {
   "cell_type": "code",
   "execution_count": 17,
   "metadata": {
    "collapsed": true
   },
   "outputs": [],
   "source": [
    "#Remaking sets\n",
    "X_train1 = np.concatenate((training_0s,training_1s,training_2s,training_3s,training_4s,training_5s,training_6s,\n",
    "                           training_7s,training_8s,training_9s),axis=0)\n",
    "y_train1 = np.concatenate((training_0s_label,training_1s_label,training_2s_label,training_3s_label,training_4s_label,\n",
    "                           training_5s_label,training_6s_label,training_7s_label,training_8s_label,training_9s_label),\n",
    "                          axis=0)\n",
    "\n",
    "X_val = np.concatenate((val_0s,val_1s,val_2s,val_3s,val_4s,val_5s,val_6s,val_7s,val_8s,val_9s),axis=0)\n",
    "y_val = np.concatenate((val_0s_label,val_1s_label,val_2s_label,val_3s_label,val_4s_label,val_5s_label,val_6s_label,\n",
    "                        val_7s_label,val_8s_label,val_9s_label),axis=0)"
   ]
  },
  {
   "cell_type": "code",
   "execution_count": 18,
   "metadata": {},
   "outputs": [
    {
     "data": {
      "text/plain": [
       "((48000, 784), (48000,))"
      ]
     },
     "execution_count": 18,
     "metadata": {},
     "output_type": "execute_result"
    }
   ],
   "source": [
    "X_train1.shape, y_train1.shape"
   ]
  },
  {
   "cell_type": "code",
   "execution_count": 19,
   "metadata": {},
   "outputs": [
    {
     "data": {
      "text/plain": [
       "((11990, 784), (11990,))"
      ]
     },
     "execution_count": 19,
     "metadata": {},
     "output_type": "execute_result"
    }
   ],
   "source": [
    "X_val.shape, y_val.shape"
   ]
  },
  {
   "cell_type": "code",
   "execution_count": 20,
   "metadata": {},
   "outputs": [
    {
     "name": "stdout",
     "output_type": "stream",
     "text": [
      "[ 596 3370 3048 2908    8  577 2867  811 3509 1538 3121 3066 2481 2314  227\n",
      "  296 4327 1020 2520 3857 1480  534 4355 3337 1874 2809 3595  759 3729  805\n",
      " 4260 3285  828 4720 4250 2899   23  586 1627 3213   33  911 3018   79 4453\n",
      "  254 2990 4492  486 1849]\n"
     ]
    }
   ],
   "source": [
    "size_of_base = 50 #number of digits to make digit-matrix\n",
    "rand_ind = np.arange(4800)\n",
    "np.random.shuffle(rand_ind)\n",
    "inds = rand_ind[:size_of_base]\n",
    "print(inds)"
   ]
  },
  {
   "cell_type": "code",
   "execution_count": 21,
   "metadata": {
    "scrolled": true
   },
   "outputs": [
    {
     "data": {
      "text/plain": [
       "(784, 50)"
      ]
     },
     "execution_count": 21,
     "metadata": {},
     "output_type": "execute_result"
    }
   ],
   "source": [
    "#Creating matrices of each digit, each matrix having size_of_base number od samples of a digit\n",
    "bases = [training_0s[inds,:].T,\n",
    "         training_1s[inds,:].T,\n",
    "         training_2s[inds,:].T,\n",
    "         training_3s[inds,:].T,\n",
    "         training_4s[inds,:].T,\n",
    "         training_5s[inds,:].T,\n",
    "         training_6s[inds,:].T,\n",
    "         training_7s[inds,:].T,\n",
    "         training_8s[inds,:].T,\n",
    "         training_9s[inds,:].T]\n",
    "bases[0].shape"
   ]
  },
  {
   "cell_type": "code",
   "execution_count": 22,
   "metadata": {
    "collapsed": true
   },
   "outputs": [],
   "source": [
    "#Calculating SVD of each digit-matrix\n",
    "temp = []\n",
    "for b in bases:\n",
    "    temp.append(np.linalg.svd(b))\n",
    "svds = np.array(temp)"
   ]
  },
  {
   "cell_type": "code",
   "execution_count": 23,
   "metadata": {
    "scrolled": false
   },
   "outputs": [
    {
     "data": {
      "text/plain": [
       "<matplotlib.collections.PathCollection at 0x198408009b0>"
      ]
     },
     "execution_count": 23,
     "metadata": {},
     "output_type": "execute_result"
    },
    {
     "data": {
      "image/png": "[encoded data removed]",
      "text/plain": [
       "<matplotlib.figure.Figure at 0x1983cff8ef0>"
      ]
     },
     "metadata": {},
     "output_type": "display_data"
    }
   ],
   "source": [
    "#Plot od singular values distribution for 0\n",
    "plt.scatter(np.linspace(0,size_of_base,(svds[7][1].shape[0])),svds[0][1])"
   ]
  },
  {
   "cell_type": "code",
   "execution_count": 24,
   "metadata": {
    "scrolled": false
   },
   "outputs": [
    {
     "data": {
      "image/png": "[encoded data removed]",
      "text/plain": [
       "<matplotlib.figure.Figure at 0x1984082ccc0>"
      ]
     },
     "metadata": {},
     "output_type": "display_data"
    }
   ],
   "source": [
    "plot_digit(svds[2][0][:,2])"
   ]
  },
  {
   "cell_type": "code",
   "execution_count": 25,
   "metadata": {},
   "outputs": [
    {
     "data": {
      "image/png": "[encoded data removed]",
      "text/plain": [
       "<matplotlib.figure.Figure at 0x198458dbfd0>"
      ]
     },
     "metadata": {},
     "output_type": "display_data"
    }
   ],
   "source": [
    "plot_digit(X_train1[0])"
   ]
  },
  {
   "cell_type": "code",
   "execution_count": 26,
   "metadata": {
    "collapsed": true
   },
   "outputs": [],
   "source": [
    "#Finding how many singular values represent >97% \"energy\"\n",
    "def findEnergy_coeff(s):\n",
    "    for k in range(len(s)):\n",
    "        en = sum(s[:k]**2)/sum(s**2)\n",
    "        if en >= 0.97:\n",
    "            return k"
   ]
  },
  {
   "cell_type": "code",
   "execution_count": 27,
   "metadata": {},
   "outputs": [
    {
     "data": {
      "text/plain": [
       "[28, 20, 32, 30, 32, 33, 29, 27, 32, 27]"
      ]
     },
     "execution_count": 27,
     "metadata": {},
     "output_type": "execute_result"
    }
   ],
   "source": [
    "sigmas = []\n",
    "for q in range(len(svds)):\n",
    "    sigmas.append(findEnergy_coeff(svds[q][1]))\n",
    "sigmas"
   ]
  },
  {
   "cell_type": "code",
   "execution_count": 28,
   "metadata": {},
   "outputs": [
    {
     "name": "stdout",
     "output_type": "stream",
     "text": [
      "28\n"
     ]
    }
   ],
   "source": [
    "#Energy unit test\n",
    "ener = 0\n",
    "totE = sum(svds[0][1]**2)\n",
    "for i in range(0,100):\n",
    "    ener = ener + svds[0][1][i]**2\n",
    "    if ener/totE >= 0.97:\n",
    "        print(i+1)\n",
    "        break"
   ]
  },
  {
   "cell_type": "code",
   "execution_count": 29,
   "metadata": {},
   "outputs": [
    {
     "data": {
      "text/plain": [
       "1.0"
      ]
     },
     "execution_count": 29,
     "metadata": {},
     "output_type": "execute_result"
    }
   ],
   "source": [
    "#unit test\n",
    "sum(svds[0][1][:54]**2)/sum(svds[0][1]**2)"
   ]
  },
  {
   "cell_type": "code",
   "execution_count": 30,
   "metadata": {
    "collapsed": true
   },
   "outputs": [],
   "source": [
    "#left-singular matrices in approximated k-rank\n",
    "U_ks = []\n",
    "for i in range(len(svds)):\n",
    "    temp = svds[i][0][:,:sigmas[i]]\n",
    "    U_ks.append(temp)"
   ]
  },
  {
   "cell_type": "code",
   "execution_count": 31,
   "metadata": {
    "collapsed": true
   },
   "outputs": [],
   "source": [
    "#Calculating distance of new digit to digit-space. Minimal distance = digit\n",
    "def identifyNewDigit(P):\n",
    "    dists = []\n",
    "    for i in range(len(svds)):\n",
    "        dists.append(np.linalg.norm(np.dot(U_ks[i].dot(U_ks[i].T),P)-P))\n",
    "    return dists.index(min(dists))"
   ]
  },
  {
   "cell_type": "code",
   "execution_count": 32,
   "metadata": {
    "collapsed": true
   },
   "outputs": [],
   "source": [
    "def testRun_onTrainingSet(num):\n",
    "    counter = 0\n",
    "    mistakes = []\n",
    "    answers = []\n",
    "    for i in range(num):\n",
    "        n = np.random.randint(len(X_train1))\n",
    "        P = X_train1[n]\n",
    "        guess = identifyNewDigit(P)\n",
    "        ans = y_train1[n]\n",
    "        answers.append(ans)\n",
    "        if guess==ans:\n",
    "            counter += 1\n",
    "        else:\n",
    "            mistakes.append(ans)\n",
    "    return counter/num, mistakes, answers"
   ]
  },
  {
   "cell_type": "code",
   "execution_count": 33,
   "metadata": {
    "collapsed": true
   },
   "outputs": [],
   "source": [
    "def testRun_onValidationSet(num):\n",
    "    counter = 0\n",
    "    mistakes = []\n",
    "    answers = []\n",
    "    for i in range(num):\n",
    "        n = np.random.randint(len(X_val))\n",
    "        P = X_val[n]\n",
    "        guess = identifyNewDigit(P)\n",
    "        ans = y_val[n]\n",
    "        answers.append(ans)\n",
    "        if guess==ans:\n",
    "            counter += 1\n",
    "        else:\n",
    "            mistakes.append(ans)\n",
    "    return counter/num, mistakes, answers"
   ]
  },
  {
   "cell_type": "code",
   "execution_count": 34,
   "metadata": {
    "collapsed": true
   },
   "outputs": [],
   "source": [
    "def testRun_onTestSet(num):\n",
    "    counter = 0\n",
    "    mistakes = []\n",
    "    answers = []\n",
    "    for i in range(num):\n",
    "        n = np.random.randint(len(X_test))\n",
    "        P = X_test[n]\n",
    "        guess = identifyNewDigit(P)\n",
    "        ans = y_test[n]\n",
    "        answers.append(ans)\n",
    "        if guess==ans:\n",
    "            counter += 1\n",
    "        else:\n",
    "            mistakes.append(ans)\n",
    "    return counter/num, mistakes, answers"
   ]
  },
  {
   "cell_type": "code",
   "execution_count": 35,
   "metadata": {
    "collapsed": true
   },
   "outputs": [],
   "source": [
    "#visual test of algorithm"
   ]
  },
  {
   "cell_type": "code",
   "execution_count": 36,
   "metadata": {
    "collapsed": true
   },
   "outputs": [],
   "source": [
    "testDigit = X_train1[np.random.randint(0,48000)]"
   ]
  },
  {
   "cell_type": "code",
   "execution_count": 37,
   "metadata": {
    "scrolled": true
   },
   "outputs": [
    {
     "data": {
      "image/png": "[encoded data removed]",
      "text/plain": [
       "<matplotlib.figure.Figure at 0x198409ad2e8>"
      ]
     },
     "metadata": {},
     "output_type": "display_data"
    }
   ],
   "source": [
    "plot_digit(testDigit)"
   ]
  },
  {
   "cell_type": "code",
   "execution_count": 38,
   "metadata": {},
   "outputs": [
    {
     "data": {
      "text/plain": [
       "7"
      ]
     },
     "execution_count": 38,
     "metadata": {},
     "output_type": "execute_result"
    }
   ],
   "source": [
    "identifyNewDigit(testDigit)"
   ]
  },
  {
   "cell_type": "code",
   "execution_count": 39,
   "metadata": {
    "collapsed": true
   },
   "outputs": [],
   "source": [
    "#Number of test digits\n",
    "runSize = 50"
   ]
  },
  {
   "cell_type": "code",
   "execution_count": 40,
   "metadata": {
    "collapsed": true
   },
   "outputs": [],
   "source": [
    "#Test run on training set\n",
    "acc_score, mistakes, answers = testRun_onTrainingSet(runSize)"
   ]
  },
  {
   "cell_type": "code",
   "execution_count": 41,
   "metadata": {},
   "outputs": [
    {
     "data": {
      "text/plain": [
       "0.96"
      ]
     },
     "execution_count": 41,
     "metadata": {},
     "output_type": "execute_result"
    }
   ],
   "source": [
    "acc_score"
   ]
  },
  {
   "cell_type": "code",
   "execution_count": 42,
   "metadata": {
    "collapsed": true
   },
   "outputs": [],
   "source": [
    "digits, mistake_freq = np.unique(mistakes, return_counts = True)\n",
    "ds, dig_freq = np.unique(answers, return_counts = True)"
   ]
  },
  {
   "cell_type": "code",
   "execution_count": 43,
   "metadata": {},
   "outputs": [
    {
     "data": {
      "text/plain": [
       "(array([ 0.,  1.,  2.,  3.,  4.,  5.,  6.,  7.,  8.,  9.]),\n",
       " array([ 3,  5,  5,  2, 11,  4,  5,  6,  4,  5], dtype=int64))"
      ]
     },
     "execution_count": 43,
     "metadata": {},
     "output_type": "execute_result"
    }
   ],
   "source": [
    "#Number of each digits tested\n",
    "ds, dig_freq"
   ]
  },
  {
   "cell_type": "code",
   "execution_count": 44,
   "metadata": {},
   "outputs": [
    {
     "data": {
      "text/plain": [
       "(array([ 2.,  8.]), array([1, 1], dtype=int64))"
      ]
     },
     "execution_count": 44,
     "metadata": {},
     "output_type": "execute_result"
    }
   ],
   "source": [
    "#Mistakes by digit\n",
    "digits, mistake_freq"
   ]
  },
  {
   "cell_type": "code",
   "execution_count": null,
   "metadata": {},
   "outputs": [],
   "source": [
    "#plot  of mistakes - will fail if there are digits the algorithm guessed all right - fix in future!\n",
    "#increase runSize variable to ~1000\n",
    "fig, ax = plt.subplots()\n",
    "ax.scatter(digits, mistake_freq/dig_freq, marker='x', c='r')\n",
    "ax.xaxis.set_ticks([0,1,2,3,4,5,6,7,8,9])\n",
    "ax.set_ylim(bottom=0)\n",
    "plt.title('Pogrešno klasificirane znamenke na trening setu')\n",
    "plt.savefig('jupyter_charts/mistakes1.png')"
   ]
  },
  {
   "cell_type": "code",
   "execution_count": 45,
   "metadata": {
    "collapsed": true
   },
   "outputs": [],
   "source": [
    "#Test run on validation set\n",
    "acc_score2, mistakes2, answers2 = testRun_onValidationSet(runSize)"
   ]
  },
  {
   "cell_type": "code",
   "execution_count": 46,
   "metadata": {},
   "outputs": [
    {
     "data": {
      "text/plain": [
       "0.88"
      ]
     },
     "execution_count": 46,
     "metadata": {},
     "output_type": "execute_result"
    }
   ],
   "source": [
    "acc_score2"
   ]
  },
  {
   "cell_type": "code",
   "execution_count": 47,
   "metadata": {
    "collapsed": true
   },
   "outputs": [],
   "source": [
    "digits2, mistake_freq2 = np.unique(mistakes2, return_counts = True)\n",
    "ds2, dig_freq2 = np.unique(answers2, return_counts = True)"
   ]
  },
  {
   "cell_type": "code",
   "execution_count": 48,
   "metadata": {},
   "outputs": [
    {
     "data": {
      "text/plain": [
       "(array([ 0.,  1.,  2.,  3.,  4.,  5.,  6.,  7.,  8.,  9.]),\n",
       " array([ 5, 12,  2,  4,  4,  3,  3,  6,  3,  8], dtype=int64))"
      ]
     },
     "execution_count": 48,
     "metadata": {},
     "output_type": "execute_result"
    }
   ],
   "source": [
    "#Number of each digits tested\n",
    "ds2, dig_freq2"
   ]
  },
  {
   "cell_type": "code",
   "execution_count": 49,
   "metadata": {},
   "outputs": [
    {
     "data": {
      "text/plain": [
       "(array([ 7.,  8.,  9.]), array([2, 1, 3], dtype=int64))"
      ]
     },
     "execution_count": 49,
     "metadata": {},
     "output_type": "execute_result"
    }
   ],
   "source": [
    "#Mistakes by digit\n",
    "digits2, mistake_freq2"
   ]
  },
  {
   "cell_type": "code",
   "execution_count": null,
   "metadata": {},
   "outputs": [],
   "source": [
    "#plot  of mistakes - will fail if there are digits the algorithm guessed all right - fix in future!\n",
    "#increase runSize variable to ~1000\n",
    "fig, ax = plt.subplots()\n",
    "ax.scatter(digits2, mistake_freq2/dig_freq2, marker='x', c='r')\n",
    "ax.xaxis.set_ticks([0,1,2,3,4,5,6,7,8,9])\n",
    "ax.set_ylim(bottom=0)\n",
    "plt.title('Pogrešno klasificirane znamenke na validacijskom setu')\n",
    "plt.savefig('jupyter_charts/mistakes2.png')"
   ]
  },
  {
   "cell_type": "code",
   "execution_count": 50,
   "metadata": {
    "collapsed": true
   },
   "outputs": [],
   "source": [
    "#Test run on the main test set\n",
    "acc_score3, mistakes3, answers3 = testRun_onTestSet(runSize)"
   ]
  },
  {
   "cell_type": "code",
   "execution_count": 51,
   "metadata": {},
   "outputs": [
    {
     "data": {
      "text/plain": [
       "0.86"
      ]
     },
     "execution_count": 51,
     "metadata": {},
     "output_type": "execute_result"
    }
   ],
   "source": [
    "acc_score3"
   ]
  },
  {
   "cell_type": "code",
   "execution_count": 52,
   "metadata": {
    "collapsed": true
   },
   "outputs": [],
   "source": [
    "digits3, mistake_freq3 = np.unique(mistakes3, return_counts = True)\n",
    "ds3, dig_freq3 = np.unique(answers3, return_counts = True)"
   ]
  },
  {
   "cell_type": "code",
   "execution_count": 53,
   "metadata": {},
   "outputs": [
    {
     "data": {
      "text/plain": [
       "(array([ 0.,  1.,  2.,  3.,  4.,  5.,  6.,  7.,  8.,  9.]),\n",
       " array([9, 6, 5, 5, 5, 5, 3, 4, 5, 3], dtype=int64))"
      ]
     },
     "execution_count": 53,
     "metadata": {},
     "output_type": "execute_result"
    }
   ],
   "source": [
    "#Number of each digits tested\n",
    "ds3, dig_freq3"
   ]
  },
  {
   "cell_type": "code",
   "execution_count": 54,
   "metadata": {},
   "outputs": [
    {
     "data": {
      "text/plain": [
       "(array([ 0.,  2.,  3.,  5.,  7.,  8.]), array([1, 1, 1, 1, 1, 2], dtype=int64))"
      ]
     },
     "execution_count": 54,
     "metadata": {},
     "output_type": "execute_result"
    }
   ],
   "source": [
    "#Mistakes by digit\n",
    "digits3, mistake_freq3"
   ]
  },
  {
   "cell_type": "code",
   "execution_count": null,
   "metadata": {},
   "outputs": [],
   "source": [
    "#plot  of mistakes - will fail if there are digits the algorithm guessed all right - fix in future!\n",
    "#increase runSize variable to ~1000\n",
    "fig, ax = plt.subplots()\n",
    "ax.scatter(digits3, mistake_freq3/dig_freq3, marker='x', c='r')\n",
    "ax.xaxis.set_ticks([0,1,2,3,4,5,6,7,8,9])\n",
    "ax.set_ylim(bottom=0)\n",
    "plt.title('Pogrešno klasificirane znamenke na test setu')\n",
    "plt.savefig('jupyter_charts/mistakes3.png')"
   ]
  },
  {
   "cell_type": "code",
   "execution_count": 55,
   "metadata": {},
   "outputs": [
    {
     "name": "stdout",
     "output_type": "stream",
     "text": [
      "Veličina setova:  48000 , 11990 , 10000\n",
      "Broj nepoznatih znamenki:  50\n",
      "Točnosti po setu:  96.0 % , 88.0 % , 86.0 %\n",
      "Prosječna točnost: 89.99999999999999 %\n"
     ]
    }
   ],
   "source": [
    "print('Veličina setova: ', X_train1.shape[0],',', X_val.shape[0],',', X_test.shape[0])\n",
    "print('Broj nepoznatih znamenki: ', runSize)\n",
    "print('Točnosti po setu: ', acc_score*100,'%',',',acc_score2*100,'%',',',acc_score3*100,'%')\n",
    "print('Prosječna točnost:',((acc_score+acc_score2+acc_score3)/3.0)*100,'%')"
   ]
  },
  {
   "cell_type": "code",
   "execution_count": null,
   "metadata": {
    "scrolled": true
   },
   "outputs": [],
   "source": [
    "#plot  of mistakes - will fail if there are digits the algorithm guessed all right - fix in future!\n",
    "#increase runSize variable to ~1000\n",
    "fig, ax = plt.subplots()\n",
    "plt.scatter(digits, mistake_freq/dig_freq, marker='x', c='r')\n",
    "plt.scatter(digits2, mistake_freq2/dig_freq2, marker='2', c='b')\n",
    "plt.scatter(digits3, mistake_freq3/dig_freq3, marker='o', c='g')\n",
    "ax.xaxis.set_ticks([0,1,2,3,4,5,6,7,8,9])\n",
    "plt.title('Pogreške na sva tri seta')\n",
    "plt.savefig('jupyter_charts/rel_mistakes.png')"
   ]
  },
  {
   "cell_type": "markdown",
   "metadata": {},
   "source": [
    "Time measurements"
   ]
  },
  {
   "cell_type": "code",
   "execution_count": null,
   "metadata": {},
   "outputs": [],
   "source": [
    "%%timeit -n1 -r1\n",
    "acc_score, mistakes, answers = testRun_onTrainingSet(1000)"
   ]
  },
  {
   "cell_type": "code",
   "execution_count": null,
   "metadata": {
    "collapsed": true
   },
   "outputs": [],
   "source": [
    "%%timeit -n1 -r1\n",
    "acc_score2, mistakes2, answers2 = testRun_onValidationSet(1000)"
   ]
  },
  {
   "cell_type": "code",
   "execution_count": null,
   "metadata": {
    "collapsed": true
   },
   "outputs": [],
   "source": [
    "%%timeit -n1 -r1\n",
    "acc_score3, mistakes3, answers3 = testRun_onTestSet(1000)"
   ]
  },
  {
   "cell_type": "code",
   "execution_count": null,
   "metadata": {
    "collapsed": true
   },
   "outputs": [],
   "source": [
    "%%timeit -n1 -r3\n",
    "temp2 = []\n",
    "for b in bases:\n",
    "    temp.append(np.linalg.svd(b))\n",
    "svds2 = np.array(temp)"
   ]
  }
 ],
 "metadata": {
  "kernelspec": {
   "display_name": "Python 3",
   "language": "python",
   "name": "python3"
  },
  "language_info": {
   "codemirror_mode": {
    "name": "ipython",
    "version": 3
   },
   "file_extension": ".py",
   "mimetype": "text/x-python",
   "name": "python",
   "nbconvert_exporter": "python",
   "pygments_lexer": "ipython3",
   "version": "3.6.2"
  }
 },
 "nbformat": 4,
 "nbformat_minor": 2
}
